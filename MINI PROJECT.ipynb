{
 "cells": [
  {
   "cell_type": "code",
   "execution_count": 1,
   "metadata": {},
   "outputs": [
    {
     "name": "stdout",
     "output_type": "stream",
     "text": [
      "C:\\Users\\FARHAN SHAIKH\\Desktop\n",
      "C:\\Users\\FARHAN SHAIKH\\Desktop\\New folder\n"
     ]
    }
   ],
   "source": [
    "import sqlite3\n",
    "import pandas as pd\n",
    "import os\n",
    "print(os.path.abspath('../'))\n",
    "file_path = os.path.abspath('../New folder')\n",
    "print(file_path)"
   ]
  },
  {
   "cell_type": "code",
   "execution_count": 2,
   "metadata": {},
   "outputs": [],
   "source": [
    "con = sqlite3.connect('C:/Users/FARHAN SHAIKH/Desktop/New folder/movie_analytics_lab15.db')"
   ]
  },
  {
   "cell_type": "code",
   "execution_count": 3,
   "metadata": {},
   "outputs": [
    {
     "name": "stdout",
     "output_type": "stream",
     "text": [
      "            id                                              title  year nth  \\\n",
      "0            1                              !Women Art Revolution  2010       \n",
      "1            2                                                 #1  2005       \n",
      "2            3                                                 #1  2010       \n",
      "3            4                                                 #1  2010   I   \n",
      "4            5                                #1 Cheerleader Camp  2010       \n",
      "...        ...                                                ...   ...  ..   \n",
      "530251  530252                                         Þyngdarafl  2010       \n",
      "530252  530253                                            à parte  2010       \n",
      "530253  530254                                           ìCàcaro!  2002       \n",
      "530254  530255                  ìMaten a ese hijo de la chingada!  2008       \n",
      "530255  530256  íslenska, on the Road to Unearth Iceland's Sec...  2007       \n",
      "\n",
      "        for_video  \n",
      "0               0  \n",
      "1               0  \n",
      "2               0  \n",
      "3               1  \n",
      "4               1  \n",
      "...           ...  \n",
      "530251          0  \n",
      "530252          0  \n",
      "530253          0  \n",
      "530254          1  \n",
      "530255          0  \n",
      "\n",
      "[530256 rows x 5 columns]\n"
     ]
    }
   ],
   "source": [
    "query = \"SELECT * FROM movie\"\n",
    "print(pd.read_sql_query(query, con))"
   ]
  },
  {
   "cell_type": "code",
   "execution_count": 4,
   "metadata": {},
   "outputs": [
    {
     "name": "stdout",
     "output_type": "stream",
     "text": [
      "              id                         name gender\n",
      "0              1                      $, Homo      m\n",
      "1              2                     $, Steve      m\n",
      "2              3                   $hort, Too      m\n",
      "3              4                $lim, Bee Moe      m\n",
      "4              5       'Avacado' Wolfe, David      m\n",
      "...          ...                          ...    ...\n",
      "1724711  1724712  Þórðarson, Theodór Kristinn      m\n",
      "1724712  1724713           Þórðarsson, Haukur      m\n",
      "1724713  1724714       Þórólfsdóttir, Kristín      f\n",
      "1724714  1724715            à Hiller, Legaren      m\n",
      "1724715  1724716                á Rógvu, Rosa      f\n",
      "\n",
      "[1724716 rows x 3 columns]\n"
     ]
    }
   ],
   "source": [
    "query = \"SELECT * FROM actor\"\n",
    "print(pd.read_sql_query(query, con))"
   ]
  },
  {
   "cell_type": "code",
   "execution_count": 6,
   "metadata": {},
   "outputs": [
    {
     "name": "stdout",
     "output_type": "stream",
     "text": [
      "         movie_id  actor_id                      name\n",
      "0          313958         1                   Himself\n",
      "1          128021         2                      None\n",
      "2           27289         3                 Too $hort\n",
      "3           48898         3                   Himself\n",
      "4          162990         3                   Himself\n",
      "...           ...       ...                       ...\n",
      "5321138    333408   1724706  Woman with baby carriage\n",
      "5321139      5138   1724707                      None\n",
      "5321140    529793   1724708         Kona laxveiðimans\n",
      "5321141    130681   1724714         Foreldrar á fundi\n",
      "5321142     71410   1724716         Pensionatværtinde\n",
      "\n",
      "[5321143 rows x 3 columns]\n"
     ]
    }
   ],
   "source": [
    "query = \"SELECT * FROM role\"\n",
    "print(pd.read_sql_query(query, con))"
   ]
  },
  {
   "cell_type": "code",
   "execution_count": 7,
   "metadata": {},
   "outputs": [
    {
     "name": "stdout",
     "output_type": "stream",
     "text": [
      "       id         title  year nth  for_video\n",
      "0  188845  Holiday Road  2012              0\n"
     ]
    }
   ],
   "source": [
    "query = \"SELECT * FROM movie WHERE title = 'Holiday Road'\"\n",
    "print(pd.read_sql_query(query, con))"
   ]
  },
  {
   "cell_type": "code",
   "execution_count": 8,
   "metadata": {
    "scrolled": true
   },
   "outputs": [
    {
     "name": "stdout",
     "output_type": "stream",
     "text": [
      "Empty DataFrame\n",
      "Columns: [id, title, year, nth, for_video]\n",
      "Index: []\n"
     ]
    }
   ],
   "source": [
    "query = \"SELECT * FROM movie WHERE title = 'Cinema Six' AND 'Excuse Me'\"\n",
    "print(pd.read_sql_query(query, con))"
   ]
  },
  {
   "cell_type": "code",
   "execution_count": 10,
   "metadata": {},
   "outputs": [
    {
     "name": "stdout",
     "output_type": "stream",
     "text": [
      "      id       title  year nth  for_video\n",
      "0  84911  Cinema Six  2012              0\n"
     ]
    }
   ],
   "source": [
    "query = \"SELECT * FROM movie WHERE title = 'Cinema Six' OR 'Excuse Me' AND year BETWEEN 2011 AND 2012\"\n",
    "print(pd.read_sql_query(query, con))"
   ]
  },
  {
   "cell_type": "code",
   "execution_count": 9,
   "metadata": {},
   "outputs": [
    {
     "name": "stdout",
     "output_type": "stream",
     "text": [
      "      movie_id  actor_id     name\n",
      "0       177010       838  Charlie\n",
      "1       310557      1796  Charlie\n",
      "2       328882      3046  Charlie\n",
      "3       181175      3576  Charlie\n",
      "4        50519      3960  Charlie\n",
      "...        ...       ...      ...\n",
      "2275    271354   1643199  Charlie\n",
      "2276    205919   1657144  Charlie\n",
      "2277    398978   1657693  Charlie\n",
      "2278    516851   1673699  Charlie\n",
      "2279     17878   1690091  Charlie\n",
      "\n",
      "[2280 rows x 3 columns]\n"
     ]
    }
   ],
   "source": [
    "query = \"SELECT * FROM role WHERE name = 'Charlie'\"\n",
    "print(pd.read_sql_query(query, con))"
   ]
  },
  {
   "cell_type": "code",
   "execution_count": 11,
   "metadata": {},
   "outputs": [
    {
     "name": "stdout",
     "output_type": "stream",
     "text": [
      "   COUNT(*)\n",
      "0      2280\n"
     ]
    }
   ],
   "source": [
    "query = \"SELECT COUNT(*) FROM role WHERE name = 'Charlie'\"\n",
    "print(pd.read_sql_query(query, con))"
   ]
  },
  {
   "cell_type": "code",
   "execution_count": 12,
   "metadata": {},
   "outputs": [
    {
     "name": "stdout",
     "output_type": "stream",
     "text": [
      "       movie_id  actor_id                  name\n",
      "0        104140        21  Chavo Banda Galerias\n",
      "1        271743       113          Chanteur rap\n",
      "2        271743       116          Chanteur rap\n",
      "3        300750       424                  Chad\n",
      "4        440201       674       Charles Proctor\n",
      "...         ...       ...                   ...\n",
      "60235    233176   1723791           Chambermaid\n",
      "60236    176967   1724384             Charlotte\n",
      "60237    415744   1724384             Charlotte\n",
      "60238    149238   1724388        Christina Berg\n",
      "60239    504763   1724650                 Choir\n",
      "\n",
      "[60240 rows x 3 columns]\n"
     ]
    }
   ],
   "source": [
    "query = \"SELECT * FROM role WHERE name LIKE 'Ch%'\"\n",
    "print(pd.read_sql_query(query, con))"
   ]
  },
  {
   "cell_type": "code",
   "execution_count": 13,
   "metadata": {},
   "outputs": [
    {
     "name": "stdout",
     "output_type": "stream",
     "text": [
      "   COUNT(*)\n",
      "0     60240\n"
     ]
    }
   ],
   "source": [
    "query = \"SELECT COUNT(*) FROM role WHERE name LIKE 'Ch%'\"\n",
    "print(pd.read_sql_query(query, con))"
   ]
  },
  {
   "cell_type": "code",
   "execution_count": 14,
   "metadata": {},
   "outputs": [
    {
     "name": "stdout",
     "output_type": "stream",
     "text": [
      "           id                                        title  year nth  \\\n",
      "0           7                             #1 With A Bullet  2011       \n",
      "1           9                                         #137  2011       \n",
      "2          10  #140Characters: A Documentary About Twitter  2011       \n",
      "3          15                                         #729  2011       \n",
      "4          19                                  #Indignados  2011       \n",
      "...       ...                                          ...   ...  ..   \n",
      "38043  530163                             Über uns das All  2011       \n",
      "38044  530184                                   Üksik saar  2012       \n",
      "38045  530193                           ÜnOfficially Yours  2012       \n",
      "38046  530248                         Þegar Kanínur Fljúga  2011       \n",
      "38047  530249                                Þetta Reddast  2012       \n",
      "\n",
      "       for_video  \n",
      "0              0  \n",
      "1              0  \n",
      "2              0  \n",
      "3              0  \n",
      "4              0  \n",
      "...          ...  \n",
      "38043          0  \n",
      "38044          0  \n",
      "38045          0  \n",
      "38046          0  \n",
      "38047          0  \n",
      "\n",
      "[38048 rows x 5 columns]\n"
     ]
    }
   ],
   "source": [
    "query = \"SELECT * FROM movie WHERE year BETWEEN 2011 AND 2012\"\n",
    "print(pd.read_sql_query(query, con))"
   ]
  },
  {
   "cell_type": "code",
   "execution_count": 15,
   "metadata": {},
   "outputs": [
    {
     "name": "stdout",
     "output_type": "stream",
     "text": [
      "          id                           title  year nth  for_video\n",
      "0       1734                        13 Eerie  2013              0\n",
      "1       1907                15 Past Midnight  2013              0\n",
      "2       2331                            1961  2013              0\n",
      "3       2587                          2 Guns  2013              0\n",
      "4       2835                     20% Fiction  2013              0\n",
      "...      ...                             ...   ...  ..        ...\n",
      "1539  526870             Zmajovini pangalozi  2013              0\n",
      "1540  527251             Zombie Massacre III  2013              0\n",
      "1541  527328                    Zombieland 2  2013              0\n",
      "1542  527491                     Zoolander 2  2014              0\n",
      "1543  528419  xXx: The Return of Xander Cage  ????              0\n",
      "\n",
      "[1544 rows x 5 columns]\n"
     ]
    }
   ],
   "source": [
    "query = \"SELECT * FROM movie WHERE year > 2012\"\n",
    "print(pd.read_sql_query(query, con))"
   ]
  },
  {
   "cell_type": "code",
   "execution_count": 16,
   "metadata": {},
   "outputs": [
    {
     "name": "stdout",
     "output_type": "stream",
     "text": [
      "         id                                              title  year nth  \\\n",
      "0      8385                                       A Ghost Tail  ????       \n",
      "1      8416                                 A Girl Named Angel  ????       \n",
      "2      8900                            A Highschool of Ski-ing  ????       \n",
      "3     12726             A Special Message from Eva Marie Saint  ????       \n",
      "4     13186                                   A Taste of Shane  ????       \n",
      "..      ...                                                ...   ...  ..   \n",
      "397  521533                                   Yellow Submarine  ????       \n",
      "398  524905                                           Za touge  ????       \n",
      "399  524906                                    Za touge part 2  ????       \n",
      "400  528419                     xXx: The Return of Xander Cage  ????       \n",
      "401  523686  Young Pretender: The Story of Bonnie Prince Ch...  2017       \n",
      "\n",
      "     for_video  \n",
      "0            0  \n",
      "1            0  \n",
      "2            0  \n",
      "3            0  \n",
      "4            1  \n",
      "..         ...  \n",
      "397          0  \n",
      "398          1  \n",
      "399          1  \n",
      "400          0  \n",
      "401          0  \n",
      "\n",
      "[402 rows x 5 columns]\n"
     ]
    }
   ],
   "source": [
    "query = \"SELECT * FROM movie WHERE year > 2016 ORDER BY year DESC\"\n",
    "print(pd.read_sql_query(query, con))"
   ]
  },
  {
   "cell_type": "code",
   "execution_count": 17,
   "metadata": {},
   "outputs": [
    {
     "name": "stdout",
     "output_type": "stream",
     "text": [
      "     year\n",
      "0    1888\n",
      "1    1890\n",
      "2    1891\n",
      "3    1892\n",
      "4    1893\n",
      "..    ...\n",
      "125  2014\n",
      "126  2015\n",
      "127  2016\n",
      "128  2017\n",
      "129  ????\n",
      "\n",
      "[130 rows x 1 columns]\n"
     ]
    }
   ],
   "source": [
    "query = \"SELECT DISTINCT year FROM movie ORDER BY year ASC\"\n",
    "print(pd.read_sql_query(query, con))"
   ]
  },
  {
   "cell_type": "code",
   "execution_count": 18,
   "metadata": {},
   "outputs": [
    {
     "name": "stdout",
     "output_type": "stream",
     "text": [
      "       movie_id  actor_id                   name\n",
      "0         63550       160       Entourage Leader\n",
      "1        124453       168              Bystander\n",
      "2        361547       179                 Spider\n",
      "3        320381       256              Bartender\n",
      "4        499723       279                Pleader\n",
      "...         ...       ...                    ...\n",
      "24258    346923   1708792  Herself - Cheerleader\n",
      "24259     18121   1709662                 Moeder\n",
      "24260     24799   1709662     Nederlandse Moeder\n",
      "24261    188514   1709662         Jenny's moeder\n",
      "24262    262020   1724654             The Spider\n",
      "\n",
      "[24263 rows x 3 columns]\n"
     ]
    }
   ],
   "source": [
    "query = \"SELECT * FROM role WHERE name LIKE '%der'\"\n",
    "print(pd.read_sql_query(query, con))"
   ]
  },
  {
   "cell_type": "code",
   "execution_count": 19,
   "metadata": {},
   "outputs": [
    {
     "name": "stdout",
     "output_type": "stream",
     "text": [
      "   MIN(year)\n",
      "0       1888\n"
     ]
    }
   ],
   "source": [
    "query = \"SELECT MIN(year) FROM movie \"\n",
    "print(pd.read_sql_query(query, con))"
   ]
  },
  {
   "cell_type": "code",
   "execution_count": 20,
   "metadata": {},
   "outputs": [
    {
     "name": "stdout",
     "output_type": "stream",
     "text": [
      "  MAX(year)\n",
      "0      ????\n"
     ]
    }
   ],
   "source": [
    "query = \"SELECT MAX(year) FROM movie \"\n",
    "print(pd.read_sql_query(query, con))"
   ]
  },
  {
   "cell_type": "code",
   "execution_count": 21,
   "metadata": {},
   "outputs": [
    {
     "name": "stdout",
     "output_type": "stream",
     "text": [
      "   MAX(year)\n",
      "0       2017\n"
     ]
    }
   ],
   "source": [
    "query = \"SELECT MAX(year) FROM movie WHERE year < '????' \"\n",
    "print(pd.read_sql_query(query, con))"
   ]
  },
  {
   "cell_type": "code",
   "execution_count": 22,
   "metadata": {},
   "outputs": [
    {
     "name": "stdout",
     "output_type": "stream",
     "text": [
      "   MAX(year)\n",
      "0       2017\n"
     ]
    }
   ],
   "source": [
    "query = \"SELECT MAX(year) FROM movie WHERE year < '????' AND 2017\"\n",
    "print(pd.read_sql_query(query, con))"
   ]
  },
  {
   "cell_type": "code",
   "execution_count": 23,
   "metadata": {},
   "outputs": [
    {
     "name": "stdout",
     "output_type": "stream",
     "text": [
      "   COUNT(*)\n",
      "0       401\n"
     ]
    }
   ],
   "source": [
    "query = \"SELECT COUNT(*) FROM movie WHERE year = '????' AND 2016 \"\n",
    "print(pd.read_sql_query(query, con))"
   ]
  },
  {
   "cell_type": "code",
   "execution_count": 25,
   "metadata": {},
   "outputs": [
    {
     "name": "stdout",
     "output_type": "stream",
     "text": [
      "       id     name gender  movie_id  actor_id     name\n",
      "0  435177  El Viti      m    270735    435177  Himself\n",
      "1  435177  El Viti      m    394846    435177  Himself\n",
      "2  435177  El Viti      m    482608    435177  Himself\n"
     ]
    }
   ],
   "source": [
    "query = \"SELECT * FROM actor inner JOIN role ON actor.id = role.actor_id WHERE actor.name LIKE 'El viti'\"\n",
    "print(pd.read_sql_query(query, con))"
   ]
  },
  {
   "cell_type": "code",
   "execution_count": 26,
   "metadata": {},
   "outputs": [
    {
     "name": "stdout",
     "output_type": "stream",
     "text": [
      "       id         title  year nth  for_video  movie_id  actor_id       name\n",
      "0  326552  P-Word Pizza  2011              0    326552     77167  Pizza Guy\n",
      "1  326552  P-Word Pizza  2011              0    326552    276967       None\n",
      "2  326552  P-Word Pizza  2011              0    326552    762707       None\n",
      "3  326552  P-Word Pizza  2011              0    326552   1141913       None\n",
      "4  326552  P-Word Pizza  2011              0    326552   1206154       None\n",
      "5  326552  P-Word Pizza  2011              0    326552   1412871       None\n",
      "6  326552  P-Word Pizza  2011              0    326552   1513705       None\n"
     ]
    }
   ],
   "source": [
    "query = \"SELECT * FROM movie inner JOIN role ON movie.id = role.movie_id WHERE movie.title LIKE 'P-Word%Pizza'\"\n",
    "print(pd.read_sql_query(query, con))"
   ]
  },
  {
   "cell_type": "code",
   "execution_count": 27,
   "metadata": {},
   "outputs": [
    {
     "name": "stdout",
     "output_type": "stream",
     "text": [
      "       id         title  year nth  for_video  movie_id  actor_id       name\n",
      "0  326552  P-Word Pizza  2011              0    326552     77167  Pizza Guy\n"
     ]
    }
   ],
   "source": [
    "query = \"SELECT * FROM movie inner JOIN role ON movie.id = role.movie_id WHERE movie.title LIKE 'P-Word%Pizza' AND role.name LIKE 'Pizza%Guy'\"\n",
    "print(pd.read_sql_query(query, con))"
   ]
  },
  {
   "cell_type": "code",
   "execution_count": 28,
   "metadata": {},
   "outputs": [
    {
     "name": "stdout",
     "output_type": "stream",
     "text": [
      "       id     name gender  movie_id  actor_id     name\n",
      "0  435177  El Viti      m    270735    435177  Himself\n",
      "1  435177  El Viti      m    394846    435177  Himself\n",
      "2  435177  El Viti      m    482608    435177  Himself\n"
     ]
    }
   ],
   "source": [
    "query = \"SELECT * FROM actor inner JOIN role ON actor.id = role.actor_id WHERE actor.name LIKE 'El viti'\"\n",
    "print(pd.read_sql_query(query, con))"
   ]
  }
 ],
 "metadata": {
  "kernelspec": {
   "display_name": "Python 3",
   "language": "python",
   "name": "python3"
  },
  "language_info": {
   "codemirror_mode": {
    "name": "ipython",
    "version": 3
   },
   "file_extension": ".py",
   "mimetype": "text/x-python",
   "name": "python",
   "nbconvert_exporter": "python",
   "pygments_lexer": "ipython3",
   "version": "3.7.4"
  }
 },
 "nbformat": 4,
 "nbformat_minor": 2
}
